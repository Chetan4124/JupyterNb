{
 "cells": [
  {
   "cell_type": "markdown",
   "id": "9fd88ddc-ebd5-4b05-a0d9-9732edf5a226",
   "metadata": {},
   "source": [
    "# Data Science Tools and ecosystem"
   ]
  },
  {
   "cell_type": "markdown",
   "id": "f8bbc3ed-03b2-43a4-a824-ae543819b11b",
   "metadata": {},
   "source": [
    "# In this notebook, Data Science Tools and Ecosystem are summarized"
   ]
  },
  {
   "cell_type": "markdown",
   "id": "f4701223-9c24-47e6-bf64-baab835ec777",
   "metadata": {},
   "source": [
    "*Objectives:*\n",
    "* This notebook talks about some popular languages in data science.\n",
    "* Some commolnly used libraries in data science.\n",
    "* Also it consists of some basic execution of arthimetic expressions using python.\n",
    "* Basically it is a summary of jupyter notebook learned so far in the course.  \n",
    "\n"
   ]
  },
  {
   "cell_type": "markdown",
   "id": "1ed07dea-1bb4-45c9-bd6c-cfcb8907db55",
   "metadata": {},
   "source": [
    "# Some of the popular languages that Data Scientists use are:\n",
    "1. Python\n",
    "2. R\n",
    "3. SQL(Structured Query Language)\n",
    "   \n",
    "\n"
   ]
  },
  {
   "cell_type": "markdown",
   "id": "b885aedd-11b8-47b5-a32d-097bf14fba00",
   "metadata": {},
   "source": [
    "#Some of the commonly used libraries used by Data Scientists include:\n",
    "1. Pandas\n",
    "2. Numpy\n",
    "3. Matplotlib\n"
   ]
  },
  {
   "cell_type": "markdown",
   "id": "1182773c-4145-4533-b6a8-0a15b4cab691",
   "metadata": {},
   "source": [
    "| Data Science Tools |\n",
    "|--------------------|\n",
    "| Jupyter Notebook   |\n",
    "| RStudio            |\n",
    "| Apache Zeppelin    |\n"
   ]
  },
  {
   "cell_type": "markdown",
   "id": "8869d03b-001e-45ab-a299-c9680e21cd9d",
   "metadata": {},
   "source": [
    "### Below are a few examples of evaluating arithmetic expressions in Python"
   ]
  },
  {
   "cell_type": "code",
   "execution_count": 1,
   "id": "74283ea1-1858-4c67-acc3-526222362cf4",
   "metadata": {},
   "outputs": [
    {
     "name": "stdout",
     "output_type": "stream",
     "text": [
      "17\n"
     ]
    }
   ],
   "source": [
    "#   This a simple arithmetic expression to mutiply then add integers\n",
    "num1 = 3\n",
    "num2 = 4\n",
    "num3 = 5\n",
    "result=(3*4)+5\n",
    "print(result)"
   ]
  },
  {
   "cell_type": "code",
   "execution_count": 2,
   "id": "0febf0ac-947a-4ca8-9abc-f221dead37ac",
   "metadata": {},
   "outputs": [
    {
     "name": "stdout",
     "output_type": "stream",
     "text": [
      "3.3333333333333335\n"
     ]
    }
   ],
   "source": [
    "#  This will convert 200 minutes to hours by diving by 60.\n",
    "min = 200\n",
    "hours = min/60\n",
    "print(hours)"
   ]
  },
  {
   "cell_type": "markdown",
   "id": "c81e222a-c64d-4766-8d13-8a04ba30250b",
   "metadata": {},
   "source": [
    "## Author\n",
    "Chetan Prakash"
   ]
  }
 ],
 "metadata": {
  "kernelspec": {
   "display_name": "Python 3 (ipykernel)",
   "language": "python",
   "name": "python3"
  },
  "language_info": {
   "codemirror_mode": {
    "name": "ipython",
    "version": 3
   },
   "file_extension": ".py",
   "mimetype": "text/x-python",
   "name": "python",
   "nbconvert_exporter": "python",
   "pygments_lexer": "ipython3",
   "version": "3.12.8"
  }
 },
 "nbformat": 4,
 "nbformat_minor": 5
}
